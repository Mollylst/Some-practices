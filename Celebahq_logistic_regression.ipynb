{
  "nbformat": 4,
  "nbformat_minor": 0,
  "metadata": {
    "colab": {
      "name": "Celebahq-logistic regression.ipynb",
      "provenance": [],
      "machine_shape": "hm",
      "mount_file_id": "1U46YfadLd5wThHb9ORR0prkzC4I3V3ru",
      "authorship_tag": "ABX9TyOTBVViwDXzc8Ora0lldfhB",
      "include_colab_link": true
    },
    "kernelspec": {
      "name": "python3",
      "display_name": "Python 3"
    },
    "language_info": {
      "name": "python"
    }
  },
  "cells": [
    {
      "cell_type": "markdown",
      "metadata": {
        "id": "view-in-github",
        "colab_type": "text"
      },
      "source": [
        "<a href=\"https://colab.research.google.com/github/Mollylst/resnet18/blob/main/Celebahq_logistic_regression.ipynb\" target=\"_parent\"><img src=\"https://colab.research.google.com/assets/colab-badge.svg\" alt=\"Open In Colab\"/></a>"
      ]
    },
    {
      "cell_type": "code",
      "metadata": {
        "id": "VewVyBOscm1t"
      },
      "source": [
        "!unzip -uq '/content/drive/MyDrive/celeb/celeb_fake.zip' -d /content/dataset\n",
        "!unzip -uq '/content/drive/MyDrive/celeb/celeb_real.zip' -d /content/dataset"
      ],
      "execution_count": null,
      "outputs": []
    },
    {
      "cell_type": "code",
      "metadata": {
        "id": "WGdwqwT0cuY3"
      },
      "source": [
        "import numpy as np\n",
        "from PIL import Image\n",
        "from scipy import fftpack\n",
        "\n",
        "\n",
        "def dct2(array):\n",
        "    array = fftpack.dct(array, type=2, norm=\"ortho\", axis=0)\n",
        "    array = fftpack.dct(array, type=2, norm=\"ortho\", axis=1)\n",
        "    return array\n",
        "\n",
        "def log_scale(array, epsilon=1e-12):\n",
        "    \"\"\"Log scale the input array.\n",
        "    \"\"\"\n",
        "    array = np.abs(array)\n",
        "    array += epsilon  # no zero in log\n",
        "    array = np.log(array)\n",
        "    return array\n",
        "    \n",
        "def welford(sample):\n",
        "    \"\"\"Calculates the mean, variance and sample variance along the first axis of an array.\n",
        "    Taken from https://en.wikipedia.org/wiki/Algorithms_for_calculating_variance\n",
        "    \"\"\"\n",
        "    existing_aggregate = (None, None, None)\n",
        "    for data in sample:\n",
        "        existing_aggregate = _welford_update(existing_aggregate, data)\n",
        "\n",
        "    # sample variance only for calculation\n",
        "    return _welford_finalize(existing_aggregate)[:-1]\n",
        "\n",
        "def welford_multidimensional(sample):\n",
        "    \"\"\"Same as normal welford but for multidimensional data, computes along the last axis.\n",
        "    \"\"\"\n",
        "    aggregates = {}\n",
        "\n",
        "    for data in sample:\n",
        "        # for each sample update each axis seperately\n",
        "        for i, d in enumerate(data):\n",
        "            existing_aggregate = aggregates.get(i, (None, None, None))\n",
        "            existing_aggregate = _welford_update(existing_aggregate, d)\n",
        "            aggregates[i] = existing_aggregate\n",
        "\n",
        "    means, variances = list(), list()\n",
        "\n",
        "    # in newer python versions dicts would keep their insert order, but legacy\n",
        "    for i in range(len(aggregates)):\n",
        "        aggregate = aggregates[i]\n",
        "        mean, variance = _welford_finalize(aggregate)[:-1]\n",
        "        means.append(mean)\n",
        "        variances.append(variance)\n",
        "\n",
        "    return np.asarray(means), np.asarray(variances)\n",
        "\n",
        "def _welford_update(existing_aggregate, new_value):\n",
        "    (count, mean, M2) = existing_aggregate\n",
        "    if count is None:\n",
        "        count, mean, M2 = 0, np.zeros_like(new_value), np.zeros_like(new_value)\n",
        "\n",
        "    count += 1\n",
        "    delta = new_value - mean\n",
        "    mean += delta / count\n",
        "    delta2 = new_value - mean\n",
        "    M2 += delta * delta2\n",
        "\n",
        "    return (count, mean, M2)\n",
        "\n",
        "def _welford_finalize(existing_aggregate):\n",
        "    count, mean, M2 = existing_aggregate\n",
        "    mean, variance, sample_variance = (mean, M2/count, M2/(count - 1))\n",
        "    if count < 2:\n",
        "        return (float(\"nan\"), float(\"nan\"), float(\"nan\"))\n",
        "    else:\n",
        "        return (mean, variance, sample_variance)\n",
        "\n",
        "def normalize(image, mean, std):\n",
        "    image = (image - mean) / std\n",
        "    return image"
      ],
      "execution_count": null,
      "outputs": []
    },
    {
      "cell_type": "code",
      "metadata": {
        "id": "Q1WPvrs0cxkR"
      },
      "source": [
        "import cv2\n",
        "import os\n",
        "import numpy as np\n",
        "import random\n",
        "import torch\n",
        "import torchvision\n",
        "import os\n",
        "from torchvision import datasets \n",
        "from torch.utils.data import random_split\n",
        "import torchvision.transforms as transforms\n",
        "\n",
        "def image2npy(label2idx, dir_path='/content/dataset'):\n",
        "    i = 0\n",
        "    data = []\n",
        "    for (root, dirs, files) in os.walk(dir_path):\n",
        "        for file in files: \n",
        "            img_path = os.path.join(root, file) \n",
        "            File = root.split('/')[-1] #name of the file which is label\n",
        "            #image = cv2.imread(img_path,0)\n",
        "            image = cv2.imread(img_path, cv2.IMREAD_GRAYSCALE)\n",
        "            image = np.asarray(image)\n",
        "            image = dct2(image)\n",
        "            image = log_scale(image)\n",
        "\n",
        "            label = label2idx[File]\n",
        "            data.append([np.asarray(image), label])\n",
        "    return data"
      ],
      "execution_count": null,
      "outputs": []
    },
    {
      "cell_type": "code",
      "metadata": {
        "colab": {
          "base_uri": "https://localhost:8080/"
        },
        "id": "4tH9AhiTGb07",
        "outputId": "8598e604-b0b7-4e55-fd50-de879ddea2c9"
      },
      "source": [
        "label2idx = {'fake':1, 'real': 0}\n",
        "data = image2npy(label2idx, dir_path='/content/dataset')\n",
        "\n",
        "train_data,valid_data,test_data = random_split(data,[16000,2000,2000])\n",
        "\n",
        "X_train = np.array([i[0] for i in train_data]) # train feature\n",
        "X_train_max = X_train.max(0)\n",
        "X_train = X_train/X_train_max\n",
        "y_train = np.array([i[1] for i in train_data]) # train label\n",
        "\n",
        "X_valid = np.array([i[0] for i in valid_data]) \n",
        "X_valid_max = X_valid.max(0)\n",
        "X_valid = X_valid/X_valid_max\n",
        "y_valid = np.array([i[1] for i in valid_data]) \n",
        "\n",
        "X_test = np.array([i[0] for i in test_data]) \n",
        "X_test_max = X_test.max(0)\n",
        "X_test = X_test/X_test_max\n",
        "y_test = np.array([i[1] for i in test_data]) \n",
        "print(len(X_train), len(y_train), len(X_valid), len(y_valid),len(X_test),len(y_test))\n",
        "\n",
        "np.save('drive/MyDrive/train-images.npy', X_train)\n",
        "np.save('drive/MyDrive/train-labels.npy', y_train)\n",
        "np.save('drive/MyDrive/valid-images.npy', X_valid)\n",
        "np.save('drive/MyDrive/valid-labels.npy', y_valid)\n",
        "np.save('drive/MyDrive/test-images.npy', X_test)\n",
        "np.save('drive/MyDrive/test-labels.npy', y_test)"
      ],
      "execution_count": null,
      "outputs": [
        {
          "output_type": "stream",
          "text": [
            "16000 16000 2000 2000 2000 2000\n"
          ],
          "name": "stdout"
        }
      ]
    },
    {
      "cell_type": "code",
      "metadata": {
        "colab": {
          "base_uri": "https://localhost:8080/",
          "height": 258
        },
        "id": "w4TXcRRvkjdt",
        "outputId": "32e0fad6-050f-4cd0-8b9a-424bebff12a9"
      },
      "source": [
        "import matplotlib.pyplot as plt\n",
        "fig, axes = plt.subplots(nrows=1, ncols=2,figsize=(7,7))\n",
        "axes[0].imshow(X_train[y_train==label2idx['fake']].mean(0),cmap='gray',interpolation='none')\n",
        "axes[0].set_title('fake')\n",
        "axes[1].imshow(X_train[y_train==label2idx['real']].mean(0),cmap='gray',interpolation='none')\n",
        "axes[1].set_title('real')"
      ],
      "execution_count": null,
      "outputs": [
        {
          "output_type": "execute_result",
          "data": {
            "text/plain": [
              "Text(0.5, 1.0, 'real')"
            ]
          },
          "metadata": {
            "tags": []
          },
          "execution_count": 39
        },
        {
          "output_type": "display_data",
          "data": {
            "image/png": "[encoded data removed]",
            "text/plain": [
              "<Figure size 504x504 with 2 Axes>"
            ]
          },
          "metadata": {
            "tags": [],
            "needs_background": "light"
          }
        }
      ]
    },
    {
      "cell_type": "code",
      "metadata": {
        "colab": {
          "base_uri": "https://localhost:8080/"
        },
        "id": "OsthPQ9Vq8XK",
        "outputId": "27f1f694-3584-4179-8184-38e76bcfdfac"
      },
      "source": [
        "import torch\n",
        "import torchvision\n",
        "import numpy as np\n",
        "from torchvision import datasets \n",
        "\n",
        "train_images = np.load('./drive/MyDrive/train-images.npy')\n",
        "train_labels = np.load('./drive/MyDrive/train-labels.npy')\n",
        "valid_images = np.load('./drive/MyDrive/valid-images.npy')\n",
        "valid_labels = np.load('./drive/MyDrive/valid-labels.npy')\n",
        "test_images = np.load('./drive/MyDrive/test-images.npy')\n",
        "test_labels = np.load('./drive/MyDrive/test-labels.npy')\n",
        "\n",
        "X_train = torch.from_numpy(train_images).float() \n",
        "X_valid = torch.from_numpy(valid_images).float()\n",
        "X_test = torch.from_numpy(test_images).float()\n",
        "Y_train = torch.from_numpy(train_labels).long() \n",
        "Y_valid = torch.from_numpy(valid_labels).long()\n",
        "Y_test = torch.from_numpy(test_labels).long()\n",
        "\n",
        "print(X_train.shape, Y_train.shape)\n",
        "print(X_valid.shape, Y_valid.shape)\n",
        "print(X_test.shape, Y_test.shape)\n",
        "\n",
        "MINIBATCH_SIZE = 128\n",
        "\n",
        "trainDataset = torch.utils.data.TensorDataset(X_train, Y_train) \n",
        "trainloader = torch.utils.data.DataLoader(\n",
        "    dataset=trainDataset,\n",
        "    batch_size=MINIBATCH_SIZE,\n",
        "    shuffle=True,\n",
        "    num_workers=2          # set multi-work num read data\n",
        ")\n",
        "\n",
        "image, label = iter(trainloader).next()\n",
        "print(type(image), type(label))\n",
        "print(image.size(), label.size())\n",
        "\n",
        "validDataset = torch.utils.data.TensorDataset(X_valid, Y_valid) \n",
        "validloader = torch.utils.data.DataLoader(\n",
        "    dataset=validDataset,\n",
        "    batch_size=MINIBATCH_SIZE,\n",
        "    shuffle=True,\n",
        "    num_workers=2          # set multi-work num read data\n",
        ")\n",
        "\n",
        "testDataset = torch.utils.data.TensorDataset(X_test, Y_test) \n",
        "testloader = torch.utils.data.DataLoader(\n",
        "    dataset=testDataset,\n",
        "    batch_size=MINIBATCH_SIZE, \n",
        "    shuffle=True, \n",
        "    num_workers=2 \n",
        ")"
      ],
      "execution_count": null,
      "outputs": [
        {
          "output_type": "stream",
          "text": [
            "torch.Size([16000, 128, 128]) torch.Size([16000])\n",
            "torch.Size([2000, 128, 128]) torch.Size([2000])\n",
            "torch.Size([2000, 128, 128]) torch.Size([2000])\n",
            "<class 'torch.Tensor'> <class 'torch.Tensor'>\n",
            "torch.Size([128, 128, 128]) torch.Size([128])\n"
          ],
          "name": "stdout"
        }
      ]
    },
    {
      "cell_type": "code",
      "metadata": {
        "colab": {
          "base_uri": "https://localhost:8080/"
        },
        "id": "npdD37Jtq-g8",
        "outputId": "c66919c1-c7b8-48e7-d630-f6966e876ef1"
      },
      "source": [
        "device = torch.device(\"cuda:0\" if torch.cuda.is_available() else \"cpu\")\n",
        "\n",
        "# Assuming that we are on a CUDA machine, this should print a CUDA device:\n",
        "\n",
        "print(device)"
      ],
      "execution_count": null,
      "outputs": [
        {
          "output_type": "stream",
          "text": [
            "cpu\n"
          ],
          "name": "stdout"
        }
      ]
    },
    {
      "cell_type": "code",
      "metadata": {
        "id": "a9BNfoJJrBKN"
      },
      "source": [
        "import torch.nn as nn\n",
        "input_size=16384\n",
        "num_classes=2\n",
        "\n",
        "class LogisticRegression(nn.Module):\n",
        "    def __init__(self, input_size, num_classes):\n",
        "        super(LogisticRegression, self).__init__()\n",
        "        self.linear = nn.Linear(input_size, num_classes)\n",
        "        #self.mean = torch.tensor(mean)\n",
        "        #self.std = torch.tensor(std)\n",
        "\n",
        "    def forward(self, x):\n",
        "        #x = x - self.mean\n",
        "        #x = x / self.std\n",
        "        out = self.linear(x)\n",
        "        return out\n",
        " \n",
        "model = LogisticRegression(input_size, num_classes).to(device)"
      ],
      "execution_count": null,
      "outputs": []
    },
    {
      "cell_type": "code",
      "metadata": {
        "id": "KKGQ4nLzrReD"
      },
      "source": [
        "import torch.optim as optim\n",
        "import torch\n",
        "import torch.nn as nn\n",
        "import torch.nn.functional as F\n",
        "from torch.optim.lr_scheduler import CosineAnnealingLR\n",
        "\n",
        "criterion = nn.CrossEntropyLoss()\n",
        "optimizer = optim.SGD(model.parameters(), lr=0.001,momentum=0.9, weight_decay=5e-4) \n",
        "scheduler = torch.optim.lr_scheduler.CosineAnnealingLR(optimizer, T_max=100, eta_min=0, last_epoch=-1, verbose=False)"
      ],
      "execution_count": null,
      "outputs": []
    },
    {
      "cell_type": "code",
      "metadata": {
        "colab": {
          "base_uri": "https://localhost:8080/",
          "height": 1000
        },
        "id": "ZJNDC29WrmNv",
        "outputId": "4be5bf8b-c76e-4f34-c830-5e800382b2e9"
      },
      "source": [
        "import time\n",
        "import matplotlib.pyplot as plt\n",
        "\n",
        "num_epoch=50\n",
        "path='./deepfake-LR.pth'\n",
        "\n",
        "def train_and_valid():\n",
        "    history = []\n",
        "    best_acc = 0.0\n",
        "    best_epoch = 0\n",
        "    \n",
        "    for epoch in range(0,num_epoch):\n",
        "        epoch_start = time.time()\n",
        "        print(\"Epoch: {}/{}\".format(epoch+1, num_epoch))\n",
        "\n",
        "        model.train()\n",
        "        train_loss = 0.0\n",
        "        train_acc = 0.0\n",
        "        valid_loss = 0.0\n",
        "        valid_acc = 0.0\n",
        "\n",
        "        #train\n",
        "        for i, (inputs, labels) in enumerate(trainloader):\n",
        "\n",
        "            inputs = inputs.reshape(-1, 128*128).to(device)\n",
        "            labels = labels.to(device)  # Labels\n",
        "            optimizer.zero_grad()\n",
        "            outputs = model(inputs)\n",
        "            loss = criterion(outputs,labels)\n",
        "\n",
        "            #L1_reg = 0\n",
        "            #for param in model.parameters():\n",
        "              #L1_reg += torch.sum(torch.abs(param))\n",
        "            #loss += 0.001 * L1_reg  # lambda=0.001\n",
        "            \n",
        "            loss.backward()\n",
        "            optimizer.step()\n",
        "            train_loss += loss.item() * inputs.size(0)\n",
        "            _,predictions = torch.max(outputs.data, 1)\n",
        "            train_acc += (predictions == labels).sum().item()\n",
        "\n",
        "        #valid\n",
        "        model.eval()\n",
        "        with torch.no_grad():\n",
        "\n",
        "            for j, (inputs, labels) in enumerate(validloader):\n",
        "\n",
        "                inputs = inputs.reshape(-1, 128*128).to(device)\n",
        "                labels = labels.to(device)  # Labels\n",
        "                outputs = model(inputs)\n",
        "                loss = criterion(outputs, labels)\n",
        "                valid_loss += loss.item() * inputs.size(0)\n",
        "                _,predictions = torch.max(outputs.data, 1)\n",
        "                valid_acc += (predictions == labels).sum().item()\n",
        " \n",
        "        avg_train_loss = train_loss/ len(trainDataset)\n",
        "        avg_train_acc = train_acc/ len(trainDataset)\n",
        " \n",
        "        avg_valid_loss = valid_loss/ len(validDataset)\n",
        "        avg_valid_acc = valid_acc/ len(validDataset)\n",
        "\n",
        "        #record the accuracy and loss in each epoch\n",
        "        history.append([avg_train_loss, avg_valid_loss, avg_train_acc, avg_valid_acc])\n",
        " \n",
        "        if best_acc < avg_valid_acc:\n",
        "            best_acc = avg_valid_acc\n",
        "            best_epoch = epoch + 1\n",
        "            torch.save(model.state_dict(),path)\n",
        "        scheduler.step()  \n",
        "\n",
        "        epoch_end = time.time()\n",
        "        \n",
        "        print(\"Epoch: {:03d}, Training: Loss: {:.4f}, Accuracy: {:.4f}%, \\n\\t\\tValidation: Loss: {:.4f}, Accuracy: {:.4f}%, Time: {:.4f}s\".format(\n",
        "            epoch+1, avg_train_loss, avg_train_acc*100, avg_valid_loss, avg_valid_acc*100, epoch_end-epoch_start\n",
        "        ))\n",
        "        print(\"Best Accuracy for validation : {:.4f} at epoch {:03d}\".format(best_acc, best_epoch))\n",
        "\n",
        "    return history\n",
        "    \n",
        "#start training and testing\n",
        "history = train_and_valid()\n",
        "\n",
        "#make the plots\n",
        "history = np.array(history)\n",
        "plt.plot(history[:, 0:2])\n",
        "plt.legend(['Training Loss', 'Validation Loss'])\n",
        "plt.xlabel('Epoch Number')\n",
        "plt.ylabel('Loss')\n",
        "plt.ylim(0, 1.1)\n",
        "#plt.savefig(dataset+'_loss_curve.png')\n",
        "plt.show()\n",
        " \n",
        "plt.plot(history[:, 2:4])\n",
        "plt.legend(['Training Accuracy', 'Validation Accuracy'])\n",
        "plt.xlabel('Epoch Number')\n",
        "plt.ylabel('Accuracy')\n",
        "plt.ylim(0, 1.1)\n",
        "#plt.savefig(dataset+'_accuracy_curve.png')\n",
        "plt.show()"
      ],
      "execution_count": null,
      "outputs": [
        {
          "output_type": "stream",
          "text": [
            "Epoch: 1/50\n",
            "Epoch: 001, Training: Loss: 0.4487, Accuracy: 78.7937%, \n",
            "\t\tValidation: Loss: 0.3861, Accuracy: 84.4000%, Time: 1.7008s\n",
            "Best Accuracy for validation : 0.8440 at epoch 001\n",
            "Epoch: 2/50\n",
            "Epoch: 002, Training: Loss: 0.3350, Accuracy: 86.2250%, \n",
            "\t\tValidation: Loss: 0.3314, Accuracy: 85.4500%, Time: 2.2551s\n",
            "Best Accuracy for validation : 0.8545 at epoch 002\n",
            "Epoch: 3/50\n",
            "Epoch: 003, Training: Loss: 0.2899, Accuracy: 88.8812%, \n",
            "\t\tValidation: Loss: 0.3168, Accuracy: 86.0500%, Time: 2.5766s\n",
            "Best Accuracy for validation : 0.8605 at epoch 003\n",
            "Epoch: 4/50\n",
            "Epoch: 004, Training: Loss: 0.2591, Accuracy: 90.4937%, \n",
            "\t\tValidation: Loss: 0.3368, Accuracy: 84.4000%, Time: 3.3136s\n",
            "Best Accuracy for validation : 0.8605 at epoch 003\n",
            "Epoch: 5/50\n",
            "Epoch: 005, Training: Loss: 0.2460, Accuracy: 91.2438%, \n",
            "\t\tValidation: Loss: 0.3343, Accuracy: 84.5000%, Time: 3.8782s\n",
            "Best Accuracy for validation : 0.8605 at epoch 003\n",
            "Epoch: 6/50\n",
            "Epoch: 006, Training: Loss: 0.2187, Accuracy: 92.5125%, \n",
            "\t\tValidation: Loss: 0.2855, Accuracy: 87.6000%, Time: 2.0667s\n",
            "Best Accuracy for validation : 0.8760 at epoch 006\n",
            "Epoch: 7/50\n",
            "Epoch: 007, Training: Loss: 0.1984, Accuracy: 93.7000%, \n",
            "\t\tValidation: Loss: 0.3120, Accuracy: 85.7500%, Time: 1.6910s\n",
            "Best Accuracy for validation : 0.8760 at epoch 006\n",
            "Epoch: 8/50\n",
            "Epoch: 008, Training: Loss: 0.1865, Accuracy: 94.2938%, \n",
            "\t\tValidation: Loss: 0.2668, Accuracy: 88.6000%, Time: 1.7760s\n",
            "Best Accuracy for validation : 0.8860 at epoch 008\n",
            "Epoch: 9/50\n",
            "Epoch: 009, Training: Loss: 0.1749, Accuracy: 95.0312%, \n",
            "\t\tValidation: Loss: 0.2731, Accuracy: 88.1000%, Time: 1.7643s\n",
            "Best Accuracy for validation : 0.8860 at epoch 008\n",
            "Epoch: 10/50\n",
            "Epoch: 010, Training: Loss: 0.1610, Accuracy: 95.9125%, \n",
            "\t\tValidation: Loss: 0.2636, Accuracy: 88.7500%, Time: 1.6806s\n",
            "Best Accuracy for validation : 0.8875 at epoch 010\n",
            "Epoch: 11/50\n",
            "Epoch: 011, Training: Loss: 0.1555, Accuracy: 96.0375%, \n",
            "\t\tValidation: Loss: 0.2819, Accuracy: 87.6500%, Time: 1.7926s\n",
            "Best Accuracy for validation : 0.8875 at epoch 010\n",
            "Epoch: 12/50\n",
            "Epoch: 012, Training: Loss: 0.1511, Accuracy: 96.2063%, \n",
            "\t\tValidation: Loss: 0.2541, Accuracy: 88.8500%, Time: 1.8349s\n",
            "Best Accuracy for validation : 0.8885 at epoch 012\n",
            "Epoch: 13/50\n",
            "Epoch: 013, Training: Loss: 0.1400, Accuracy: 96.7812%, \n",
            "\t\tValidation: Loss: 0.2653, Accuracy: 88.4500%, Time: 1.8123s\n",
            "Best Accuracy for validation : 0.8885 at epoch 012\n",
            "Epoch: 14/50\n",
            "Epoch: 014, Training: Loss: 0.1336, Accuracy: 97.0875%, \n",
            "\t\tValidation: Loss: 0.2506, Accuracy: 89.2500%, Time: 1.8025s\n",
            "Best Accuracy for validation : 0.8925 at epoch 014\n",
            "Epoch: 15/50\n",
            "Epoch: 015, Training: Loss: 0.1288, Accuracy: 97.2375%, \n",
            "\t\tValidation: Loss: 0.2728, Accuracy: 87.9000%, Time: 1.8099s\n",
            "Best Accuracy for validation : 0.8925 at epoch 014\n",
            "Epoch: 16/50\n",
            "Epoch: 016, Training: Loss: 0.1229, Accuracy: 97.6000%, \n",
            "\t\tValidation: Loss: 0.2759, Accuracy: 87.8500%, Time: 1.8362s\n",
            "Best Accuracy for validation : 0.8925 at epoch 014\n",
            "Epoch: 17/50\n",
            "Epoch: 017, Training: Loss: 0.1164, Accuracy: 97.7938%, \n",
            "\t\tValidation: Loss: 0.2642, Accuracy: 88.3500%, Time: 1.8700s\n",
            "Best Accuracy for validation : 0.8925 at epoch 014\n",
            "Epoch: 18/50\n",
            "Epoch: 018, Training: Loss: 0.1129, Accuracy: 97.9062%, \n",
            "\t\tValidation: Loss: 0.2531, Accuracy: 89.1000%, Time: 1.7677s\n",
            "Best Accuracy for validation : 0.8925 at epoch 014\n",
            "Epoch: 19/50\n",
            "Epoch: 019, Training: Loss: 0.1082, Accuracy: 98.2188%, \n",
            "\t\tValidation: Loss: 0.2877, Accuracy: 87.3000%, Time: 1.7385s\n",
            "Best Accuracy for validation : 0.8925 at epoch 014\n",
            "Epoch: 20/50\n",
            "Epoch: 020, Training: Loss: 0.1044, Accuracy: 98.3500%, \n",
            "\t\tValidation: Loss: 0.2741, Accuracy: 88.0000%, Time: 1.7317s\n",
            "Best Accuracy for validation : 0.8925 at epoch 014\n",
            "Epoch: 21/50\n",
            "Epoch: 021, Training: Loss: 0.1012, Accuracy: 98.4875%, \n",
            "\t\tValidation: Loss: 0.2786, Accuracy: 87.7500%, Time: 1.7982s\n",
            "Best Accuracy for validation : 0.8925 at epoch 014\n",
            "Epoch: 22/50\n",
            "Epoch: 022, Training: Loss: 0.0988, Accuracy: 98.4875%, \n",
            "\t\tValidation: Loss: 0.2513, Accuracy: 89.2500%, Time: 1.8005s\n",
            "Best Accuracy for validation : 0.8925 at epoch 014\n",
            "Epoch: 23/50\n",
            "Epoch: 023, Training: Loss: 0.0969, Accuracy: 98.5812%, \n",
            "\t\tValidation: Loss: 0.2554, Accuracy: 89.3000%, Time: 1.7931s\n",
            "Best Accuracy for validation : 0.8930 at epoch 023\n",
            "Epoch: 24/50\n",
            "Epoch: 024, Training: Loss: 0.0932, Accuracy: 98.7500%, \n",
            "\t\tValidation: Loss: 0.2478, Accuracy: 89.7000%, Time: 1.8384s\n",
            "Best Accuracy for validation : 0.8970 at epoch 024\n",
            "Epoch: 25/50\n",
            "Epoch: 025, Training: Loss: 0.0896, Accuracy: 98.9188%, \n",
            "\t\tValidation: Loss: 0.2701, Accuracy: 88.2000%, Time: 1.8162s\n",
            "Best Accuracy for validation : 0.8970 at epoch 024\n",
            "Epoch: 26/50\n",
            "Epoch: 026, Training: Loss: 0.0889, Accuracy: 98.9125%, \n",
            "\t\tValidation: Loss: 0.2503, Accuracy: 89.4500%, Time: 1.8408s\n",
            "Best Accuracy for validation : 0.8970 at epoch 024\n",
            "Epoch: 27/50\n",
            "Epoch: 027, Training: Loss: 0.0854, Accuracy: 99.0187%, \n",
            "\t\tValidation: Loss: 0.2491, Accuracy: 89.4500%, Time: 1.7322s\n",
            "Best Accuracy for validation : 0.8970 at epoch 024\n",
            "Epoch: 28/50\n",
            "Epoch: 028, Training: Loss: 0.0834, Accuracy: 99.0812%, \n",
            "\t\tValidation: Loss: 0.3157, Accuracy: 86.6500%, Time: 1.7410s\n",
            "Best Accuracy for validation : 0.8970 at epoch 024\n",
            "Epoch: 29/50\n",
            "Epoch: 029, Training: Loss: 0.0819, Accuracy: 99.2313%, \n",
            "\t\tValidation: Loss: 0.2624, Accuracy: 88.6000%, Time: 1.7422s\n",
            "Best Accuracy for validation : 0.8970 at epoch 024\n",
            "Epoch: 30/50\n",
            "Epoch: 030, Training: Loss: 0.0795, Accuracy: 99.2500%, \n",
            "\t\tValidation: Loss: 0.2489, Accuracy: 89.4000%, Time: 1.8056s\n",
            "Best Accuracy for validation : 0.8970 at epoch 024\n",
            "Epoch: 31/50\n",
            "Epoch: 031, Training: Loss: 0.0769, Accuracy: 99.3812%, \n",
            "\t\tValidation: Loss: 0.2528, Accuracy: 89.1500%, Time: 1.8057s\n",
            "Best Accuracy for validation : 0.8970 at epoch 024\n",
            "Epoch: 32/50\n",
            "Epoch: 032, Training: Loss: 0.0759, Accuracy: 99.3563%, \n",
            "\t\tValidation: Loss: 0.2821, Accuracy: 87.7500%, Time: 1.7786s\n",
            "Best Accuracy for validation : 0.8970 at epoch 024\n",
            "Epoch: 33/50\n",
            "Epoch: 033, Training: Loss: 0.0748, Accuracy: 99.4313%, \n",
            "\t\tValidation: Loss: 0.2602, Accuracy: 88.9000%, Time: 1.8216s\n",
            "Best Accuracy for validation : 0.8970 at epoch 024\n",
            "Epoch: 34/50\n",
            "Epoch: 034, Training: Loss: 0.0728, Accuracy: 99.4437%, \n",
            "\t\tValidation: Loss: 0.2587, Accuracy: 89.1000%, Time: 1.8378s\n",
            "Best Accuracy for validation : 0.8970 at epoch 024\n",
            "Epoch: 35/50\n",
            "Epoch: 035, Training: Loss: 0.0713, Accuracy: 99.5438%, \n",
            "\t\tValidation: Loss: 0.2588, Accuracy: 89.1000%, Time: 1.7758s\n",
            "Best Accuracy for validation : 0.8970 at epoch 024\n",
            "Epoch: 36/50\n",
            "Epoch: 036, Training: Loss: 0.0696, Accuracy: 99.5625%, \n",
            "\t\tValidation: Loss: 0.2727, Accuracy: 88.3500%, Time: 1.8069s\n",
            "Best Accuracy for validation : 0.8970 at epoch 024\n",
            "Epoch: 37/50\n",
            "Epoch: 037, Training: Loss: 0.0684, Accuracy: 99.5812%, \n",
            "\t\tValidation: Loss: 0.2733, Accuracy: 88.3500%, Time: 1.7365s\n",
            "Best Accuracy for validation : 0.8970 at epoch 024\n",
            "Epoch: 38/50\n",
            "Epoch: 038, Training: Loss: 0.0677, Accuracy: 99.5563%, \n",
            "\t\tValidation: Loss: 0.2652, Accuracy: 88.7000%, Time: 1.7267s\n",
            "Best Accuracy for validation : 0.8970 at epoch 024\n",
            "Epoch: 39/50\n",
            "Epoch: 039, Training: Loss: 0.0665, Accuracy: 99.6063%, \n",
            "\t\tValidation: Loss: 0.2571, Accuracy: 89.2500%, Time: 1.7481s\n",
            "Best Accuracy for validation : 0.8970 at epoch 024\n",
            "Epoch: 40/50\n",
            "Epoch: 040, Training: Loss: 0.0654, Accuracy: 99.6500%, \n",
            "\t\tValidation: Loss: 0.2831, Accuracy: 87.9500%, Time: 1.8094s\n",
            "Best Accuracy for validation : 0.8970 at epoch 024\n",
            "Epoch: 41/50\n",
            "Epoch: 041, Training: Loss: 0.0647, Accuracy: 99.6562%, \n",
            "\t\tValidation: Loss: 0.2563, Accuracy: 89.0500%, Time: 1.8418s\n",
            "Best Accuracy for validation : 0.8970 at epoch 024\n",
            "Epoch: 42/50\n",
            "Epoch: 042, Training: Loss: 0.0630, Accuracy: 99.7313%, \n",
            "\t\tValidation: Loss: 0.2786, Accuracy: 88.2000%, Time: 1.8055s\n",
            "Best Accuracy for validation : 0.8970 at epoch 024\n",
            "Epoch: 43/50\n",
            "Epoch: 043, Training: Loss: 0.0621, Accuracy: 99.7500%, \n",
            "\t\tValidation: Loss: 0.2681, Accuracy: 88.6000%, Time: 1.8091s\n",
            "Best Accuracy for validation : 0.8970 at epoch 024\n",
            "Epoch: 44/50\n",
            "Epoch: 044, Training: Loss: 0.0614, Accuracy: 99.7313%, \n",
            "\t\tValidation: Loss: 0.2708, Accuracy: 88.4000%, Time: 1.8323s\n",
            "Best Accuracy for validation : 0.8970 at epoch 024\n",
            "Epoch: 45/50\n",
            "Epoch: 045, Training: Loss: 0.0605, Accuracy: 99.7938%, \n",
            "\t\tValidation: Loss: 0.2580, Accuracy: 89.2000%, Time: 1.7910s\n",
            "Best Accuracy for validation : 0.8970 at epoch 024\n",
            "Epoch: 46/50\n",
            "Epoch: 046, Training: Loss: 0.0599, Accuracy: 99.8125%, \n",
            "\t\tValidation: Loss: 0.2514, Accuracy: 89.4000%, Time: 1.7839s\n",
            "Best Accuracy for validation : 0.8970 at epoch 024\n",
            "Epoch: 47/50\n",
            "Epoch: 047, Training: Loss: 0.0597, Accuracy: 99.7625%, \n",
            "\t\tValidation: Loss: 0.2673, Accuracy: 88.6500%, Time: 1.6812s\n",
            "Best Accuracy for validation : 0.8970 at epoch 024\n",
            "Epoch: 48/50\n",
            "Epoch: 048, Training: Loss: 0.0583, Accuracy: 99.7938%, \n",
            "\t\tValidation: Loss: 0.2811, Accuracy: 88.1500%, Time: 1.7063s\n",
            "Best Accuracy for validation : 0.8970 at epoch 024\n",
            "Epoch: 49/50\n",
            "Epoch: 049, Training: Loss: 0.0579, Accuracy: 99.7750%, \n",
            "\t\tValidation: Loss: 0.2670, Accuracy: 88.7500%, Time: 1.7573s\n",
            "Best Accuracy for validation : 0.8970 at epoch 024\n",
            "Epoch: 50/50\n",
            "Epoch: 050, Training: Loss: 0.0571, Accuracy: 99.8375%, \n",
            "\t\tValidation: Loss: 0.2725, Accuracy: 88.3500%, Time: 1.8068s\n",
            "Best Accuracy for validation : 0.8970 at epoch 024\n"
          ],
          "name": "stdout"
        },
        {
          "output_type": "display_data",
          "data": {
            "image/png": "[encoded data removed]",
            "text/plain": [
              "<Figure size 432x288 with 1 Axes>"
            ]
          },
          "metadata": {
            "tags": [],
            "needs_background": "light"
          }
        },
        {
          "output_type": "display_data",
          "data": {
            "image/png": "[encoded data removed]",
            "text/plain": [
              "<Figure size 432x288 with 1 Axes>"
            ]
          },
          "metadata": {
            "tags": [],
            "needs_background": "light"
          }
        }
      ]
    },
    {
      "cell_type": "code",
      "metadata": {
        "colab": {
          "base_uri": "https://localhost:8080/"
        },
        "id": "nZXT4WhHtphg",
        "outputId": "c5a0a12e-f2ec-45df-98f5-e7b18b1d1ba6"
      },
      "source": [
        "model.load_state_dict(torch.load(path))\n",
        "correct = 0\n",
        "total = 0\n",
        "model.eval()\n",
        "# since we're not training, we don't need to calculate the gradients for our outputs\n",
        "with torch.no_grad():\n",
        "    for j, (inputs, labels) in enumerate(testloader):\n",
        "        inputs = inputs.reshape(-1, 128*128).to(device)\n",
        "        labels = labels.to(device)  # Labels\n",
        "        outputs = model(inputs)\n",
        "        # the class with the highest energy is what we choose as prediction\n",
        "        _, predicted = torch.max(outputs.data, 1)\n",
        "        total += labels.size(0)\n",
        "        correct += (predicted == labels).sum().item()\n",
        "\n",
        "print('Accuracy of the network on the test images: %d %%' % (\n",
        "    100 * correct / total))"
      ],
      "execution_count": null,
      "outputs": [
        {
          "output_type": "stream",
          "text": [
            "Accuracy of the network on the test images: 89 %\n"
          ],
          "name": "stdout"
        }
      ]
    }
  ]
}