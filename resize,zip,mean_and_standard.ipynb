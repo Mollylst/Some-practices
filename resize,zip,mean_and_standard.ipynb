{
  "nbformat": 4,
  "nbformat_minor": 0,
  "metadata": {
    "colab": {
      "name": "resize,zip,mean and standard.ipynb",
      "provenance": [],
      "mount_file_id": "1Mf4d7GpSKNGWFrIHjOh_4bQwAxpKujkH",
      "authorship_tag": "ABX9TyO+TXE6mXzULy7BALnHGpP5",
      "include_colab_link": true
    },
    "kernelspec": {
      "display_name": "Python 3",
      "name": "python3"
    },
    "language_info": {
      "name": "python"
    }
  },
  "cells": [
    {
      "cell_type": "markdown",
      "metadata": {
        "id": "view-in-github",
        "colab_type": "text"
      },
      "source": [
        "<a href=\"https://colab.research.google.com/github/Mollylst/resnet18/blob/main/resize%2Czip%2Cmean_and_standard.ipynb\" target=\"_parent\"><img src=\"https://colab.research.google.com/assets/colab-badge.svg\" alt=\"Open In Colab\"/></a>"
      ]
    },
    {
      "cell_type": "markdown",
      "metadata": {
        "id": "GNClTBhfute1"
      },
      "source": [
        "Resize images from 1024x1024 to 128x128\n"
      ]
    },
    {
      "cell_type": "code",
      "metadata": {
        "id": "94h5vhBwP56j"
      },
      "source": [
        "from PIL import Image\n",
        "import glob\n",
        "import os\n",
        "\n",
        "# new folder path (may need to alter for Windows OS)\n",
        "# change path to your path\n",
        "path = '/content/drive/MyDrive/real_fake_20000/train/real' #the path where to save resized images\n",
        "# create new folder\n",
        "if not os.path.exists(path):\n",
        "    os.makedirs(path)\n",
        "\n",
        "# loop over existing images and resize\n",
        "# change path to your path\n",
        "for filename in glob.glob('/content/drive/MyDrive/real_fake_20000/train/real/*.png'): #path of raw images\n",
        "    img = Image.open(filename).resize((128,128))\n",
        "    # save resized images to new folder with existing filename\n",
        "    img.save('{}{}{}'.format(path,'/',os.path.split(filename)[1]))"
      ],
      "execution_count": null,
      "outputs": []
    },
    {
      "cell_type": "markdown",
      "metadata": {
        "id": "OaDeytJnumAu"
      },
      "source": [
        "Upload the zip file to colab local file\n",
        "\n",
        "Create a file named train in colab local"
      ]
    },
    {
      "cell_type": "code",
      "metadata": {
        "id": "H47eKXbzftda"
      },
      "source": [
        "!unzip -uq '/content/drive/MyDrive/data 8:1:1/train_fake.zip' -d /content/train\n",
        "!unzip -uq '/content/drive/MyDrive/data 8:1:1/train_real.zip' -d /content/train\n",
        "!unzip -uq '/content/drive/MyDrive/data 8:1:1/test_fake.zip' -d /content/test\n",
        "!unzip -uq '/content/drive/MyDrive/data 8:1:1/test_real.zip' -d /content/test"
      ],
      "execution_count": null,
      "outputs": []
    },
    {
      "cell_type": "code",
      "metadata": {
        "id": "7tzsnxRmBfxz"
      },
      "source": [
        "!rm -rf my_che 20kimages"
      ],
      "execution_count": null,
      "outputs": []
    },
    {
      "cell_type": "markdown",
      "metadata": {
        "id": "AUfmYINgugp9"
      },
      "source": [
        "Mean and Standard"
      ]
    },
    {
      "cell_type": "code",
      "metadata": {
        "colab": {
          "base_uri": "https://localhost:8080/"
        },
        "id": "C8Ex_BJ8tsWg",
        "outputId": "9d5d8e32-052a-49b8-8364-51cf751eb895"
      },
      "source": [
        "import torch\n",
        "import torchvision.transforms as transforms\n",
        "from torch.utils.data import DataLoader\n",
        "import torchvision.datasets as datasets\n",
        "from tqdm import tqdm\n",
        "import numpy as np\n",
        "\n",
        "\n",
        "Batchsize=128\n",
        "\n",
        "train_images = np.load('./drive/MyDrive/train-images.npy')\n",
        "train_labels = np.load('./drive/MyDrive/train-labels.npy')\n",
        "X_train = torch.from_numpy(train_images).float() \n",
        "Y_train = torch.from_numpy(train_labels).long() \n",
        "\n",
        "trainDataset = torch.utils.data.TensorDataset(X_train, Y_train) \n",
        "trainloader = torch.utils.data.DataLoader(\n",
        "    dataset=trainDataset,\n",
        "    batch_size=128,\n",
        "    shuffle=True,\n",
        "    num_workers=2          # set multi-work num read data\n",
        ")\n",
        "#data_dir='/content/dataset'\n",
        "#device = torch.device(\"cuda\" if torch.cuda.is_available() else \"cpu\")\n",
        "#train_set = datasets.ImageFolder(data_dir+'/train', transform=transforms.ToTensor())\n",
        "#train_loader = torch.utils.data.DataLoader(dataset=train_set, batch_size=Batchsize, shuffle=True)\n",
        "\n",
        "def get_mean_std(loader):\n",
        "    # var[X] = E[X**2] - E[X]**2\n",
        "    channels_sum, channels_sqrd_sum, num_batches = 0, 0, 0\n",
        "\n",
        "    for data, _ in tqdm(loader):\n",
        "        #channels_sum += torch.mean(data, dim=[0, 2, 3])\n",
        "        channels_sum += torch.mean(data)\n",
        "        #channels_sqrd_sum += torch.mean(data ** 2, dim=[0, 2, 3])\n",
        "        channels_sqrd_sum += torch.mean(data ** 2)\n",
        "        num_batches += 1\n",
        "\n",
        "    mean = channels_sum / num_batches\n",
        "    std = (channels_sqrd_sum / num_batches - mean ** 2) ** 0.5\n",
        "\n",
        "    return mean, std\n",
        "\n",
        "\n",
        "mean, std = get_mean_std(trainloader)\n",
        "print(mean)\n",
        "print(std)"
      ],
      "execution_count": null,
      "outputs": [
        {
          "output_type": "stream",
          "text": [
            "100%|██████████| 120/120 [00:01<00:00, 86.83it/s]"
          ],
          "name": "stderr"
        },
        {
          "output_type": "stream",
          "text": [
            "tensor(1.4316)\n",
            "tensor(1.4778)\n"
          ],
          "name": "stdout"
        },
        {
          "output_type": "stream",
          "text": [
            "\n"
          ],
          "name": "stderr"
        }
      ]
    }
  ]
}